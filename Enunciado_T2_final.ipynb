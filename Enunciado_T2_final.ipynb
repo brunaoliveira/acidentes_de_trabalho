{
 "cells": [
  {
   "cell_type": "markdown",
   "metadata": {},
   "source": [
    "# Trabalho 2 - Python + MongoDB\n",
    "-----\n",
    "O objetivo deste trabalho é exercitar a utilização de banco de dados noSQL e manipulação de dados em Python. O dataset que será utilizado é o dataset de Comunicação de Acidentes do Trabalho, disponível no portal de dados aberto do Brasil: http://dados.gov.br\n",
    "O dataset original completo é composto por 3 trimestres de comunicação de acidentes de trabalho (Jul-Set 2018, Out-Dez 2018 e Jan-Mar 2019). Cada dupla, em sua área Oracle, tem acesso a um recorte deste dataset, com até 29.000 instâncias, aproximadamente. Além disso, o dataset foi enriquecido com dados de populações das respectivas cidades dos correspondentes empregadores (não, não tem a cidade onde ocorreu o acidente de trabalho; somente o estado).\n",
    "\n",
    "Abaixo, você encontra o passo a passo que deve ser seguido para realização do trabalho.\n",
    "\n",
    "\n",
    "## 1 - Exportar os dados do Oracle\n",
    "Você deve construir uma consulta que faça a junção entre os acidentes de trabalho disponíveis ao grupo e as populações dos municípios que aparecem no dataset, e exportar o resultados para `csv`. Ao exportar, definir delimitadores para não numéricos (\", por exemplo) e a codificação adequada ('cp1252' é adequada).\n",
    "\n",
    "\n",
    "## 2 - Ler o dataset e inserir no MongoDB\n",
    "\n",
    "Você deve ler o dataset exportado no passo anterior, transformar os dados em formato de documento e fazer upload para a coleção do seu grupo no mongoDB. O nome da coleção é `dupla_x_collection`. O seu usário do MongoDB é `dupla_x`. A senha você deve ter recebido no moodle. Caso não saiba a sua senha de acesso, pergunte aos professores. **x** é o número da sua dupla! \n",
    "\n",
    "Para conectar no MongoDB a partir do python, você pode utilizar o código abaixo:\n",
    "\n",
    "```python\n",
    "from pymongo import MongoClient\n",
    "user = 'dupla_x' # coloque o número da sua dupla aqui!\n",
    "pwd = 'senhaDaSuaDupla' # coloque a senha da sua dupla aqui!\n",
    "client = MongoClient('mongodb://{}:{}@ds151066.mlab.com:51066/datascience'.format(user, pwd))\n",
    "db = client.datascience\n",
    "\n",
    "# exemplo de consulta de documentos\n",
    "cursor = db.dupla_x_collection.find() # x é o numero da sua dupla!!\n",
    "```\n",
    "O espaço alocado no MongoDB (MLAB), para cada grupo, é suficiente para a carga do `csv`. \n",
    "\n",
    "\n",
    "## 2 - Responder as seguintes perguntas utilizando consultas ao MongoDB\n",
    "\n",
    "A dupla deve responder as seguintes perguntas, utilizando apenas consultas ao banco de dados.\n",
    "\n",
    "1. Quais os 10 municípios com maior taxa de acidentes por 100 mil habitantes?\n",
    "2. Quais as Naturezas das lesões, e correspondentes números de acidentes de trabalho, para naturezas de lesões cujo número de acidentes de trabalho é > 100?\n",
    "3. Quais os agentes causadores de acidentes, e correspondentes números de acidentes, por mês-ano e para acidentes com óbitos, onde o número de óbitos por agente causador é > 2?\n",
    "\n",
    "Dica: usem aggregate da API do MongoDB. Vejam mais informações em: \n",
    "https://docs.mongodb.com/manual/reference/method/db.collection.aggregate/\n",
    "e\n",
    "https://docs.mongodb.com/manual/reference/operator/aggregation-pipeline/\n",
    "\n",
    "\n",
    "## 3 - Responder as seguintes perguntas utilizando Python (Pandas, Numpy e Matplotlib)\n",
    "\n",
    "1. Quais os 10 municípios que mais possuem acidentes de trabalho? Faça um gráfico de barras para apresentar o resultado.\n",
    "2. Quais os 10 municípios que mais possuem acidentes de trabalho por 100 mil habitantes? Faça um gráfico de barras para apresentar o resultado.\n",
    "3. Qual a proporção de acidentes de trabalho em relação a cada estado? Faça um gráfico de pizza para mostrar o resultado.\n",
    "4. Qual a natureza da lesão mais comum nos acidentes?\n",
    "5. Qual é o comportamento do número de acidentes ao longo do tempo? Mostre a evolução do número de acientes utilizando um gráfico de linha.\n",
    " \n",
    "\n",
    "\n",
    "## Entrega\n",
    "A dupla deve entregar, **no moodle da disciplina de Banco de Dados Relacionais e Não Relacionais**, um **arquivo zip** com o seguinte nome: `dupla_x.zip`, onde **x** é o número da sua dupla. O arquivo `zip` deve conter os seguintes arquivos:\n",
    "* Um relatório em `pdf` contendo a definição da visão definida no Oracle, e os resultados obtidos nas consultas sobre o MongoDB via MLAB.\n",
    "* Este jupyter notebook contendo o código desenvolvido pela dupla.\n",
    "* O dataset em `csv` exportado do Oracle.\n",
    "\n",
    "<h3 style='color:red'>IMPORTANTE: A data de entrega do trabalho é 23/05.</h3>\n",
    "\n",
    "\n",
    "## Critérios de avaliação\n",
    "\n",
    "#### Critérios de avaliação da disciplina de Banco de Dados Relacionais e Não Relacionais\n",
    "- Visão adequada para exportação, contendo a junção do recorte de dados de acidentes de trabalho e as populações dos municípios: 15%\n",
    "- Arquivo `csv` exportado, com o conteúdo adequado: 10%\n",
    "- Resolução das consultas propostas: 75% (25% para cada uma)\n",
    "\n",
    "\n",
    "#### Critérios de avaliação da disciplina de Python Para Ciência de Dados\n",
    "A nota deste trabalho equivale ao **Trabalho 2 (T2)** da disciplinina de de Python Para Ciência de Dados. A pontuação será calculada sobre as questões mostradas no **item 3**, cada questão vale **2 pontos** e será avaliada de acordo com os seguintes critérios:\n",
    "\n",
    "- Resolver o problema proposto: 70%\n",
    "- Utilizar código vetorizado: 20%\n",
    "- Escrever código simples e legível: 10%"
   ]
  },
  {
   "cell_type": "markdown",
   "metadata": {},
   "source": [
    "### O seu código deve ser escrito nas células abaixo. Crie novas células conforme a necesidade de abstração. Evite escrever o código inteiro em uma única célula."
   ]
  },
  {
   "cell_type": "code",
   "execution_count": 1,
   "metadata": {},
   "outputs": [
    {
     "name": "stdout",
     "output_type": "stream",
     "text": [
      "--2019-05-16 20:23:09--  https://github.com/amplab/datascience-sp14/raw/master/lab7/mldata/mnist-original.mat\n",
      "Resolving github.com (github.com)... 192.30.253.113\n",
      "Connecting to github.com (github.com)|192.30.253.113|:443... connected.\n",
      "HTTP request sent, awaiting response... 302 Found\n",
      "Location: https://raw.githubusercontent.com/amplab/datascience-sp14/master/lab7/mldata/mnist-original.mat [following]\n",
      "--2019-05-16 20:23:10--  https://raw.githubusercontent.com/amplab/datascience-sp14/master/lab7/mldata/mnist-original.mat\n",
      "Resolving raw.githubusercontent.com (raw.githubusercontent.com)... 151.101.252.133\n",
      "Connecting to raw.githubusercontent.com (raw.githubusercontent.com)|151.101.252.133|:443... connected.\n",
      "HTTP request sent, awaiting response... 200 OK\n",
      "Length: 55440440 (53M) [application/octet-stream]\n",
      "Saving to: ‘mnist-original.mat.1’\n",
      "\n",
      "mnist-original.mat. 100%[===================>]  52.87M  1.11MB/s    in 46s     \n",
      "\n",
      "2019-05-16 20:23:58 (1.14 MB/s) - ‘mnist-original.mat.1’ saved [55440440/55440440]\n",
      "\n"
     ]
    }
   ],
   "source": [
    "%matplotlib inline\n",
    "import numpy as np\n",
    "import pandas as pd\n",
    "import matplotlib.pyplot as plt\n",
    "from pymongo import MongoClient\n",
    "from IPython.display import display as print_dataframe\n",
    "!wget https://github.com/amplab/datascience-sp14/raw/master/lab7/mldata/mnist-original.mat\n"
   ]
  },
  {
   "cell_type": "code",
   "execution_count": 48,
   "metadata": {},
   "outputs": [
    {
     "data": {
      "text/html": [
       "<div>\n",
       "<style scoped>\n",
       "    .dataframe tbody tr th:only-of-type {\n",
       "        vertical-align: middle;\n",
       "    }\n",
       "\n",
       "    .dataframe tbody tr th {\n",
       "        vertical-align: top;\n",
       "    }\n",
       "\n",
       "    .dataframe thead th {\n",
       "        text-align: right;\n",
       "    }\n",
       "</style>\n",
       "<table border=\"1\" class=\"dataframe\">\n",
       "  <thead>\n",
       "    <tr style=\"text-align: right;\">\n",
       "      <th></th>\n",
       "      <th>MES_ANO_ACIDENTE,\"NATUREZA_DA_LESAO\",\"AGENTE_CAUSADOR_ACIDENTE\",\"INDICA_OBITO_ACIDENTE\",\"POPULAÇÃO\",\"NOME_MUN\",\"NOME_UF\"</th>\n",
       "    </tr>\n",
       "  </thead>\n",
       "  <tbody>\n",
       "    <tr>\n",
       "      <th>0</th>\n",
       "      <td>07/12/2018,\"Fratura\",\"Escada Movel ou Fixa\",\"N...</td>\n",
       "    </tr>\n",
       "    <tr>\n",
       "      <th>1</th>\n",
       "      <td>07/04/2018,\"Lesao Imediata, Nic\",\"Metal - Incl...</td>\n",
       "    </tr>\n",
       "    <tr>\n",
       "      <th>2</th>\n",
       "      <td>07/10/2018,\"Corte, Laceracao, Fe\",\"Vidraria, F...</td>\n",
       "    </tr>\n",
       "    <tr>\n",
       "      <th>3</th>\n",
       "      <td>07/03/2018,\"Fratura\",\"Calcada ou Caminho p\",\"N...</td>\n",
       "    </tr>\n",
       "    <tr>\n",
       "      <th>4</th>\n",
       "      <td>07/09/2018,\"Corte, Laceracao, Fe\",\"Louca de Me...</td>\n",
       "    </tr>\n",
       "    <tr>\n",
       "      <th>5</th>\n",
       "      <td>07/11/2018,\"Contusao, Esmagament\",\"Veiculo, Ni...</td>\n",
       "    </tr>\n",
       "    <tr>\n",
       "      <th>6</th>\n",
       "      <td>07/02/2018,\"Corte, Laceracao, Fe\",\"Chao - Supe...</td>\n",
       "    </tr>\n",
       "    <tr>\n",
       "      <th>7</th>\n",
       "      <td>06/29/2018,\"Contusao, Esmagament\",\"Metal - Inc...</td>\n",
       "    </tr>\n",
       "    <tr>\n",
       "      <th>8</th>\n",
       "      <td>07/07/2018,\"Lesoes Multiplas\",\"Veiculo Rodovia...</td>\n",
       "    </tr>\n",
       "    <tr>\n",
       "      <th>9</th>\n",
       "      <td>07/11/2018,\"Luxacao\",\"Veiculo, Nic\",\"Não\",\"671...</td>\n",
       "    </tr>\n",
       "  </tbody>\n",
       "</table>\n",
       "</div>"
      ],
      "text/plain": [
       "  MES_ANO_ACIDENTE,\"NATUREZA_DA_LESAO\",\"AGENTE_CAUSADOR_ACIDENTE\",\"INDICA_OBITO_ACIDENTE\",\"POPULAÇÃO\",\"NOME_MUN\",\"NOME_UF\"\n",
       "0  07/12/2018,\"Fratura\",\"Escada Movel ou Fixa\",\"N...                                                                      \n",
       "1  07/04/2018,\"Lesao Imediata, Nic\",\"Metal - Incl...                                                                      \n",
       "2  07/10/2018,\"Corte, Laceracao, Fe\",\"Vidraria, F...                                                                      \n",
       "3  07/03/2018,\"Fratura\",\"Calcada ou Caminho p\",\"N...                                                                      \n",
       "4  07/09/2018,\"Corte, Laceracao, Fe\",\"Louca de Me...                                                                      \n",
       "5  07/11/2018,\"Contusao, Esmagament\",\"Veiculo, Ni...                                                                      \n",
       "6  07/02/2018,\"Corte, Laceracao, Fe\",\"Chao - Supe...                                                                      \n",
       "7  06/29/2018,\"Contusao, Esmagament\",\"Metal - Inc...                                                                      \n",
       "8  07/07/2018,\"Lesoes Multiplas\",\"Veiculo Rodovia...                                                                      \n",
       "9  07/11/2018,\"Luxacao\",\"Veiculo, Nic\",\"Não\",\"671...                                                                      "
      ]
     },
     "metadata": {},
     "output_type": "display_data"
    }
   ],
   "source": [
    "# Comece a escrever seu código aqui\n",
    "df = pd.read_csv('report.csv', header=0, encoding=\"CP1252\", sep=\";\", index_col=False)\n",
    "df_dict = df.to_dict ('records')\n",
    "print_dataframe(df.head(10))\n"
   ]
  },
  {
   "cell_type": "code",
   "execution_count": 53,
   "metadata": {},
   "outputs": [
    {
     "ename": "BulkWriteError",
     "evalue": "batch op errors occurred",
     "output_type": "error",
     "traceback": [
      "\u001b[1;31m---------------------------------------------------------------------------\u001b[0m",
      "\u001b[1;31mBulkWriteError\u001b[0m                            Traceback (most recent call last)",
      "\u001b[1;32m<ipython-input-53-0637e24a7443>\u001b[0m in \u001b[0;36m<module>\u001b[1;34m\u001b[0m\n\u001b[0;32m      5\u001b[0m \u001b[1;33m\u001b[0m\u001b[0m\n\u001b[0;32m      6\u001b[0m \u001b[1;31m#db.dupla_9_collection.delete_many({})\u001b[0m\u001b[1;33m\u001b[0m\u001b[1;33m\u001b[0m\u001b[1;33m\u001b[0m\u001b[0m\n\u001b[1;32m----> 7\u001b[1;33m \u001b[0mdb\u001b[0m\u001b[1;33m.\u001b[0m\u001b[0mdupla_9_collection\u001b[0m\u001b[1;33m.\u001b[0m\u001b[0minsert_many\u001b[0m\u001b[1;33m(\u001b[0m\u001b[0mdf_dict\u001b[0m\u001b[1;33m)\u001b[0m\u001b[1;33m\u001b[0m\u001b[1;33m\u001b[0m\u001b[0m\n\u001b[0m\u001b[0;32m      8\u001b[0m \u001b[1;31m# cursor = db.dupla_9_collection.find_one() # x é o numero da sua dupla!!\u001b[0m\u001b[1;33m\u001b[0m\u001b[1;33m\u001b[0m\u001b[1;33m\u001b[0m\u001b[0m\n\u001b[0;32m      9\u001b[0m \u001b[1;31m# print (cursor)\u001b[0m\u001b[1;33m\u001b[0m\u001b[1;33m\u001b[0m\u001b[1;33m\u001b[0m\u001b[0m\n",
      "\u001b[1;32m~\\Anaconda3\\lib\\site-packages\\pymongo\\collection.py\u001b[0m in \u001b[0;36minsert_many\u001b[1;34m(self, documents, ordered, bypass_document_validation, session)\u001b[0m\n\u001b[0;32m    751\u001b[0m         \u001b[0mblk\u001b[0m \u001b[1;33m=\u001b[0m \u001b[0m_Bulk\u001b[0m\u001b[1;33m(\u001b[0m\u001b[0mself\u001b[0m\u001b[1;33m,\u001b[0m \u001b[0mordered\u001b[0m\u001b[1;33m,\u001b[0m \u001b[0mbypass_document_validation\u001b[0m\u001b[1;33m)\u001b[0m\u001b[1;33m\u001b[0m\u001b[1;33m\u001b[0m\u001b[0m\n\u001b[0;32m    752\u001b[0m         \u001b[0mblk\u001b[0m\u001b[1;33m.\u001b[0m\u001b[0mops\u001b[0m \u001b[1;33m=\u001b[0m \u001b[1;33m[\u001b[0m\u001b[0mdoc\u001b[0m \u001b[1;32mfor\u001b[0m \u001b[0mdoc\u001b[0m \u001b[1;32min\u001b[0m \u001b[0mgen\u001b[0m\u001b[1;33m(\u001b[0m\u001b[1;33m)\u001b[0m\u001b[1;33m]\u001b[0m\u001b[1;33m\u001b[0m\u001b[1;33m\u001b[0m\u001b[0m\n\u001b[1;32m--> 753\u001b[1;33m         \u001b[0mblk\u001b[0m\u001b[1;33m.\u001b[0m\u001b[0mexecute\u001b[0m\u001b[1;33m(\u001b[0m\u001b[0mwrite_concern\u001b[0m\u001b[1;33m,\u001b[0m \u001b[0msession\u001b[0m\u001b[1;33m=\u001b[0m\u001b[0msession\u001b[0m\u001b[1;33m)\u001b[0m\u001b[1;33m\u001b[0m\u001b[1;33m\u001b[0m\u001b[0m\n\u001b[0m\u001b[0;32m    754\u001b[0m         \u001b[1;32mreturn\u001b[0m \u001b[0mInsertManyResult\u001b[0m\u001b[1;33m(\u001b[0m\u001b[0minserted_ids\u001b[0m\u001b[1;33m,\u001b[0m \u001b[0mwrite_concern\u001b[0m\u001b[1;33m.\u001b[0m\u001b[0macknowledged\u001b[0m\u001b[1;33m)\u001b[0m\u001b[1;33m\u001b[0m\u001b[1;33m\u001b[0m\u001b[0m\n\u001b[0;32m    755\u001b[0m \u001b[1;33m\u001b[0m\u001b[0m\n",
      "\u001b[1;32m~\\Anaconda3\\lib\\site-packages\\pymongo\\bulk.py\u001b[0m in \u001b[0;36mexecute\u001b[1;34m(self, write_concern, session)\u001b[0m\n\u001b[0;32m    519\u001b[0m                 \u001b[0mself\u001b[0m\u001b[1;33m.\u001b[0m\u001b[0mexecute_no_results\u001b[0m\u001b[1;33m(\u001b[0m\u001b[0msock_info\u001b[0m\u001b[1;33m,\u001b[0m \u001b[0mgenerator\u001b[0m\u001b[1;33m)\u001b[0m\u001b[1;33m\u001b[0m\u001b[1;33m\u001b[0m\u001b[0m\n\u001b[0;32m    520\u001b[0m         \u001b[1;32melse\u001b[0m\u001b[1;33m:\u001b[0m\u001b[1;33m\u001b[0m\u001b[1;33m\u001b[0m\u001b[0m\n\u001b[1;32m--> 521\u001b[1;33m             \u001b[1;32mreturn\u001b[0m \u001b[0mself\u001b[0m\u001b[1;33m.\u001b[0m\u001b[0mexecute_command\u001b[0m\u001b[1;33m(\u001b[0m\u001b[0mgenerator\u001b[0m\u001b[1;33m,\u001b[0m \u001b[0mwrite_concern\u001b[0m\u001b[1;33m,\u001b[0m \u001b[0msession\u001b[0m\u001b[1;33m)\u001b[0m\u001b[1;33m\u001b[0m\u001b[1;33m\u001b[0m\u001b[0m\n\u001b[0m\u001b[0;32m    522\u001b[0m \u001b[1;33m\u001b[0m\u001b[0m\n\u001b[0;32m    523\u001b[0m \u001b[1;33m\u001b[0m\u001b[0m\n",
      "\u001b[1;32m~\\Anaconda3\\lib\\site-packages\\pymongo\\bulk.py\u001b[0m in \u001b[0;36mexecute_command\u001b[1;34m(self, generator, write_concern, session)\u001b[0m\n\u001b[0;32m    347\u001b[0m \u001b[1;33m\u001b[0m\u001b[0m\n\u001b[0;32m    348\u001b[0m         \u001b[1;32mif\u001b[0m \u001b[0mfull_result\u001b[0m\u001b[1;33m[\u001b[0m\u001b[1;34m\"writeErrors\"\u001b[0m\u001b[1;33m]\u001b[0m \u001b[1;32mor\u001b[0m \u001b[0mfull_result\u001b[0m\u001b[1;33m[\u001b[0m\u001b[1;34m\"writeConcernErrors\"\u001b[0m\u001b[1;33m]\u001b[0m\u001b[1;33m:\u001b[0m\u001b[1;33m\u001b[0m\u001b[1;33m\u001b[0m\u001b[0m\n\u001b[1;32m--> 349\u001b[1;33m             \u001b[0m_raise_bulk_write_error\u001b[0m\u001b[1;33m(\u001b[0m\u001b[0mfull_result\u001b[0m\u001b[1;33m)\u001b[0m\u001b[1;33m\u001b[0m\u001b[1;33m\u001b[0m\u001b[0m\n\u001b[0m\u001b[0;32m    350\u001b[0m         \u001b[1;32mreturn\u001b[0m \u001b[0mfull_result\u001b[0m\u001b[1;33m\u001b[0m\u001b[1;33m\u001b[0m\u001b[0m\n\u001b[0;32m    351\u001b[0m \u001b[1;33m\u001b[0m\u001b[0m\n",
      "\u001b[1;32m~\\Anaconda3\\lib\\site-packages\\pymongo\\bulk.py\u001b[0m in \u001b[0;36m_raise_bulk_write_error\u001b[1;34m(full_result)\u001b[0m\n\u001b[0;32m    138\u001b[0m         full_result[\"writeErrors\"].sort(\n\u001b[0;32m    139\u001b[0m             key=lambda error: error[\"index\"])\n\u001b[1;32m--> 140\u001b[1;33m     \u001b[1;32mraise\u001b[0m \u001b[0mBulkWriteError\u001b[0m\u001b[1;33m(\u001b[0m\u001b[0mfull_result\u001b[0m\u001b[1;33m)\u001b[0m\u001b[1;33m\u001b[0m\u001b[1;33m\u001b[0m\u001b[0m\n\u001b[0m\u001b[0;32m    141\u001b[0m \u001b[1;33m\u001b[0m\u001b[0m\n\u001b[0;32m    142\u001b[0m \u001b[1;33m\u001b[0m\u001b[0m\n",
      "\u001b[1;31mBulkWriteError\u001b[0m: batch op errors occurred"
     ]
    }
   ],
   "source": [
    "user = 'dupla_9' # coloque o número da sua dupla aqui!\n",
    "pwd = 'topy0ec5' # coloque a senha da sua dupla aqui!\n",
    "client = MongoClient('mongodb://{}:{}@ds151066.mlab.com:51066/datascience'.format(user, pwd))\n",
    "db = client.datascience\n",
    "\n",
    "#db.dupla_9_collection.delete_many({})\n",
    "db.dupla_9_collection.insert_many(df_dict)\n",
    "# cursor = db.dupla_9_collection.find_one() # x é o numero da sua dupla!!\n",
    "# print (cursor)\n",
    "\n",
    "# exemplo de consulta de documentos\n",
    "cursor = db.dupla_9_collection.find()# x é o numero da sua dupla!!\n",
    "##db.dupla_9_collection.insert_many(df, ordered=False)"
   ]
  },
  {
   "cell_type": "code",
   "execution_count": 30,
   "metadata": {},
   "outputs": [
    {
     "data": {
      "text/plain": [
       "São Paulo                7353\n",
       "Guarulhos                 796\n",
       "Campinas                  742\n",
       "Ribeirão Preto            579\n",
       "São Bernardo do Campo     553\n",
       "São José do Rio Preto     530\n",
       "Piracicaba                496\n",
       "Santo André               483\n",
       "Jundiaí                   463\n",
       "Barueri                   408\n",
       "Name: NOME_MUN, dtype: int64"
      ]
     },
     "metadata": {},
     "output_type": "display_data"
    },
    {
     "data": {
      "image/png": "[encoded data removed]",
      "text/plain": [
       "<matplotlib.figure.Figure at 0x7f050096f7b8>"
      ]
     },
     "metadata": {},
     "output_type": "display_data"
    }
   ],
   "source": [
    "##1.Quais os 10 municípios que mais possuem acidentes de trabalho? Faça um gráfico de barras para apresentar o resultado.\n",
    "acid_count = df['NOME_MUN'].value_counts(sort=True, ascending=False)[:10]\n",
    "print_dataframe(acid_count)\n",
    "acid_count.plot.bar()\n",
    "plt.title('10 munícipios com maior número de acidentes de trabalho')\n",
    "plt.xticks(rotation=45)\n",
    "plt.show()"
   ]
  },
  {
   "cell_type": "code",
   "execution_count": 57,
   "metadata": {},
   "outputs": [
    {
     "data": {
      "text/plain": [
       "São Paulo                735300000\n",
       "Guarulhos                 79600000\n",
       "Campinas                  74200000\n",
       "Ribeirão Preto            57900000\n",
       "São Bernardo do Campo     55300000\n",
       "São José do Rio Preto     53000000\n",
       "Piracicaba                49600000\n",
       "Santo André               48300000\n",
       "Jundiaí                   46300000\n",
       "Barueri                   40800000\n",
       "Name: NOME_MUN, dtype: int64"
      ]
     },
     "metadata": {},
     "output_type": "display_data"
    }
   ],
   "source": [
    "##2.Quais os 10 municípios que mais possuem acidentes de trabalho por 100 mil habitantes? \n",
    "##Faça um gráfico de barras para apresentar o resultado.\n",
    "##df_grouped_by_acid2 = df.groupby(['NOME_MUN', 'POPULAÇÃO'])\n",
    "acid_por_100mil = ((df['NOME_MUN'].value_counts(sort=True, ascending=False))*100000)[:10]\n",
    "\n",
    "print_dataframe(acid_por_100mil\n",
    "\n"
   ]
  },
  {
   "cell_type": "code",
   "execution_count": null,
   "metadata": {
    "collapsed": true
   },
   "outputs": [],
   "source": [
    "##3.Qual a proporção de acidentes de trabalho em relação a cada estado?\n",
    "##Faça um gráfico de pizza para mostrar o resultado."
   ]
  },
  {
   "cell_type": "code",
   "execution_count": 73,
   "metadata": {},
   "outputs": [
    {
     "data": {
      "text/plain": [
       "'A natureza da lesão mais frequente é: Corte, Laceracao, Fe, com 5715 acidentes.'"
      ]
     },
     "metadata": {},
     "output_type": "display_data"
    }
   ],
   "source": [
    "##4.Qual a natureza da lesão mais comum nos acidentes?\n",
    "nat_lesao = (df['NATUREZA_DA_LESAO'].value_counts(sort=True, ascending=False)).idxmax()\n",
    "nat_lesao_count = (df['NATUREZA_DA_LESAO'].value_counts(sort=True, ascending=False)).max()\n",
    "print_dataframe('A natureza da lesão mais frequente é: {}, com {} acidentes.'.format(nat_lesao,nat_lesao_count))\n",
    "\n"
   ]
  },
  {
   "cell_type": "code",
   "execution_count": null,
   "metadata": {
    "collapsed": true
   },
   "outputs": [],
   "source": [
    "##5.Qual é o comportamento do número de acidentes ao longo do tempo?\n",
    "##Mostre a evolução do número de acientes utilizando um gráfico de linha."
   ]
  }
 ],
 "metadata": {
  "kernelspec": {
   "display_name": "Python 3",
   "language": "python",
   "name": "python3"
  },
  "language_info": {
   "codemirror_mode": {
    "name": "ipython",
    "version": 3
   },
   "file_extension": ".py",
   "mimetype": "text/x-python",
   "name": "python",
   "nbconvert_exporter": "python",
   "pygments_lexer": "ipython3",
   "version": "3.7.1"
  }
 },
 "nbformat": 4,
 "nbformat_minor": 2
}
