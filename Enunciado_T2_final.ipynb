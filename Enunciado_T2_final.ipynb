{
 "cells": [
  {
   "cell_type": "markdown",
   "metadata": {},
   "source": [
    "# Trabalho 2 - Python + MongoDB\n",
    "-----\n",
    "O objetivo deste trabalho é exercitar a utilização de banco de dados noSQL e manipulação de dados em Python. O dataset que será utilizado é o dataset de Comunicação de Acidentes do Trabalho, disponível no portal de dados aberto do Brasil: http://dados.gov.br\n",
    "O dataset original completo é composto por 3 trimestres de comunicação de acidentes de trabalho (Jul-Set 2018, Out-Dez 2018 e Jan-Mar 2019). Cada dupla, em sua área Oracle, tem acesso a um recorte deste dataset, com até 29.000 instâncias, aproximadamente. Além disso, o dataset foi enriquecido com dados de populações das respectivas cidades dos correspondentes empregadores (não, não tem a cidade onde ocorreu o acidente de trabalho; somente o estado).\n",
    "\n",
    "Abaixo, você encontra o passo a passo que deve ser seguido para realização do trabalho.\n",
    "\n",
    "\n",
    "## 1 - Exportar os dados do Oracle\n",
    "Você deve construir uma consulta que faça a junção entre os acidentes de trabalho disponíveis ao grupo e as populações dos municípios que aparecem no dataset, e exportar o resultados para `csv`. Ao exportar, definir delimitadores para não numéricos (\", por exemplo) e a codificação adequada ('cp1252' é adequada).\n",
    "\n",
    "\n",
    "## 2 - Ler o dataset e inserir no MongoDB\n",
    "\n",
    "Você deve ler o dataset exportado no passo anterior, transformar os dados em formato de documento e fazer upload para a coleção do seu grupo no mongoDB. O nome da coleção é `dupla_x_collection`. O seu usário do MongoDB é `dupla_x`. A senha você deve ter recebido no moodle. Caso não saiba a sua senha de acesso, pergunte aos professores. **x** é o número da sua dupla! \n",
    "\n",
    "Para conectar no MongoDB a partir do python, você pode utilizar o código abaixo:\n",
    "\n",
    "```python\n",
    "from pymongo import MongoClient\n",
    "user = 'dupla_x' # coloque o número da sua dupla aqui!\n",
    "pwd = 'senhaDaSuaDupla' # coloque a senha da sua dupla aqui!\n",
    "client = MongoClient('mongodb://{}:{}@ds151066.mlab.com:51066/datascience'.format(user, pwd))\n",
    "db = client.datascience\n",
    "\n",
    "# exemplo de consulta de documentos\n",
    "cursor = db.dupla_x_collection.find() # x é o numero da sua dupla!!\n",
    "```\n",
    "O espaço alocado no MongoDB (MLAB), para cada grupo, é suficiente para a carga do `csv`. \n",
    "\n",
    "\n",
    "## 2 - Responder as seguintes perguntas utilizando consultas ao MongoDB\n",
    "\n",
    "A dupla deve responder as seguintes perguntas, utilizando apenas consultas ao banco de dados.\n",
    "\n",
    "1. Quais os 10 municípios com maior taxa de acidentes por 100 mil habitantes?\n",
    "2. Quais as Naturezas das lesões, e correspondentes números de acidentes de trabalho, para naturezas de lesões cujo número de acidentes de trabalho é > 100?\n",
    "3. Quais os agentes causadores de acidentes, e correspondentes números de acidentes, por mês-ano e para acidentes com óbitos, onde o número de óbitos por agente causador é > 2?\n",
    "\n",
    "Dica: usem aggregate da API do MongoDB. Vejam mais informações em: \n",
    "https://docs.mongodb.com/manual/reference/method/db.collection.aggregate/\n",
    "e\n",
    "https://docs.mongodb.com/manual/reference/operator/aggregation-pipeline/\n",
    "\n",
    "\n",
    "## 3 - Responder as seguintes perguntas utilizando Python (Pandas, Numpy e Matplotlib)\n",
    "\n",
    "1. Quais os 10 municípios que mais possuem acidentes de trabalho? Faça um gráfico de barras para apresentar o resultado.\n",
    "2. Quais os 10 municípios que mais possuem acidentes de trabalho por 100 mil habitantes? Faça um gráfico de barras para apresentar o resultado.\n",
    "3. Qual a proporção de acidentes de trabalho em relação a cada estado? Faça um gráfico de pizza para mostrar o resultado.\n",
    "4. Qual a natureza da lesão mais comum nos acidentes?\n",
    "5. Qual é o comportamento do número de acidentes ao longo do tempo? Mostre a evolução do número de acientes utilizando um gráfico de linha.\n",
    " \n",
    "\n",
    "\n",
    "## Entrega\n",
    "A dupla deve entregar, **no moodle da disciplina de Banco de Dados Relacionais e Não Relacionais**, um **arquivo zip** com o seguinte nome: `dupla_x.zip`, onde **x** é o número da sua dupla. O arquivo `zip` deve conter os seguintes arquivos:\n",
    "* Um relatório em `pdf` contendo a definição da visão definida no Oracle, e os resultados obtidos nas consultas sobre o MongoDB via MLAB.\n",
    "* Este jupyter notebook contendo o código desenvolvido pela dupla.\n",
    "* O dataset em `csv` exportado do Oracle.\n",
    "\n",
    "<h3 style='color:red'>IMPORTANTE: A data de entrega do trabalho é 23/05.</h3>\n",
    "\n",
    "\n",
    "## Critérios de avaliação\n",
    "\n",
    "#### Critérios de avaliação da disciplina de Banco de Dados Relacionais e Não Relacionais\n",
    "- Visão adequada para exportação, contendo a junção do recorte de dados de acidentes de trabalho e as populações dos municípios: 15%\n",
    "- Arquivo `csv` exportado, com o conteúdo adequado: 10%\n",
    "- Resolução das consultas propostas: 75% (25% para cada uma)\n",
    "\n",
    "\n",
    "#### Critérios de avaliação da disciplina de Python Para Ciência de Dados\n",
    "A nota deste trabalho equivale ao **Trabalho 2 (T2)** da disciplinina de de Python Para Ciência de Dados. A pontuação será calculada sobre as questões mostradas no **item 3**, cada questão vale **2 pontos** e será avaliada de acordo com os seguintes critérios:\n",
    "\n",
    "- Resolver o problema proposto: 70%\n",
    "- Utilizar código vetorizado: 20%\n",
    "- Escrever código simples e legível: 10%"
   ]
  },
  {
   "cell_type": "markdown",
   "metadata": {},
   "source": [
    "### O seu código deve ser escrito nas células abaixo. Crie novas células conforme a necesidade de abstração. Evite escrever o código inteiro em uma única célula."
   ]
  },
  {
   "cell_type": "code",
   "execution_count": 2,
   "metadata": {},
   "outputs": [],
   "source": [
    "import numpy as np\n",
    "import pandas as pd\n",
    "import matplotlib.pyplot as plt\n",
    "import pymongo\n",
    "from pymongo import MongoClient\n",
    "from IPython.display import display as print_dataframe\n",
    "import json\n"
   ]
  },
  {
   "cell_type": "markdown",
   "metadata": {},
   "source": [
    "\n",
    "\n",
    "# Respostas MongoDB"
   ]
  },
  {
   "cell_type": "code",
   "execution_count": 3,
   "metadata": {},
   "outputs": [
    {
     "data": {
      "text/plain": [
       "26628"
      ]
     },
     "execution_count": 3,
     "metadata": {},
     "output_type": "execute_result"
    }
   ],
   "source": [
    "user = 'dupla_9' \n",
    "pwd = 'topy0ec5'\n",
    "client = MongoClient('mongodb://{}:{}@ds151066.mlab.com:51066/datascience'.format(user, pwd))\n",
    "db = client.datascience\n",
    "\n",
    "#db.dupla_9_collection.delete_many({}) # deleta todos \n",
    "#db.dupla_9_collection.insert_many(df_dict) # insere todos\n",
    "#cursor = db.dupla_9_collection.find() # consulta\n",
    "#db.dupla_9_collection.insert_many([{'x': i} for i in range(2)]) # insere\n",
    "\n",
    "'''\n",
    "total = db.dupla_9_collection.count_documents({})\n",
    "if(total==0):\n",
    "    try:\n",
    "        db.dupla_9_collection.insert_many(df_dict, ordered=False)\n",
    "    except pymongo.errors.BulkWriteError as e:\n",
    "        print(e.details)\n",
    "'''\n",
    "db.dupla_9_collection.count_documents({}) "
   ]
  },
  {
   "cell_type": "markdown",
   "metadata": {},
   "source": [
    "### 1 - Quais os 10 municípios com maior taxa de acidentes por 100 mil habitantes?\n"
   ]
  },
  {
   "cell_type": "code",
   "execution_count": 4,
   "metadata": {},
   "outputs": [],
   "source": [
    "cursor = db.dupla_9_collection"
   ]
  },
  {
   "cell_type": "code",
   "execution_count": null,
   "metadata": {},
   "outputs": [],
   "source": []
  },
  {
   "cell_type": "code",
   "execution_count": 74,
   "metadata": {},
   "outputs": [
    {
     "name": "stdout",
     "output_type": "stream",
     "text": [
      "Município: Borá   -  Taxa:  598.0861244019138\n",
      "Município: Cosmorama   -  Taxa:  300.7107709130672\n",
      "Município: Mendonça   -  Taxa:  258.63661555514506\n",
      "Município: Onda Verde   -  Taxa:  253.51463470845817\n",
      "Município: Pontes Gestal   -  Taxa:  232.8288707799767\n",
      "Município: Suzanápolis   -  Taxa:  230.12017386857582\n",
      "Município: Vista Alegre do Alto   -  Taxa:  208.67145838163694\n",
      "Município: Gavião Peixoto   -  Taxa:  188.99622007559847\n",
      "Município: Ipiguá   -  Taxa:  188.46588767433096\n",
      "Município: Cedral   -  Taxa:  186.3013698630137\n"
     ]
    }
   ],
   "source": [
    "ac_munic = cursor.aggregate([\n",
    "    {'$group': {'_id': {'Município': '$NOME_MUN', 'pop': '$POUPLACAO'}, 'count': {'$sum': 1} } },\n",
    "    {'$project': {'div': {'$divide': ['$count', '$_id.pop'] } } },\n",
    "    {'$project': {'Taxa': {'$multiply': ['$div', 100000] } } },\n",
    "    {'$sort': {'Taxa': -1} },\n",
    "    {'$limit': 10},\n",
    "    {'$project': {'_id.Município': 1, 'Taxa': 1} }\n",
    "])\n",
    "#display(list(ac_munic))\n",
    "a = list(ac_munic)\n",
    "for i in a:\n",
    "    print(str(i['_id']).replace('{', '').replace('}', '').replace('\\'', ''), '  -  Taxa: ', i['Taxa'])\n",
    "\n",
    "# https://docs.mongodb.com/manual/reference/operator/aggregation/divide/\n",
    "# https://docs.mongodb.com/manual/reference/operator/aggregation/multiply/"
   ]
  },
  {
   "cell_type": "markdown",
   "metadata": {},
   "source": [
    "{'_id': ObjectId('5cdf542de43df11ba4b62f0c'), \n",
    " 'MES_ANO_ACIDENTE': '01-JUL-18', \n",
    " 'NATUREZA_DA_LESAO': 'Fratura', \n",
    " 'AGENTE_CAUSADOR_ACIDENTE': 'Escada Movel ou Fixa', \n",
    " 'INDICA_OBITO_ACIDENTE': 'Não', \n",
    " 'POUPLACAO': 1365899, \n",
    " 'NOME_MUN': 'Guarulhos', \n",
    " 'NOME_UF': 'São Paulo'}\n",
    "\n",
    "\n"
   ]
  },
  {
   "cell_type": "markdown",
   "metadata": {},
   "source": [
    "### 2 - Quais as Naturezas das lesões, e correspondentes números de acidentes de trabalho, para naturezas de lesões cujo número de acidentes de trabalho é > 100?\n"
   ]
  },
  {
   "cell_type": "code",
   "execution_count": 172,
   "metadata": {},
   "outputs": [],
   "source": [
    "# numero de acidentes são as quantidades de lesoes\n",
    "ac_lesao = cursor.aggregate([\n",
    "    {'$group': {'_id': {'lesao': '$NATUREZA_DA_LESAO'}, 'count': {'$sum': 1} } },\n",
    "    {'$match': {'count': {'$gt': 100} } },\n",
    "    {'$sort': {'count': -1} }\n",
    "] )\n",
    "# ja mostra ordenado\n",
    "#display(list(ac_lesao))"
   ]
  },
  {
   "cell_type": "markdown",
   "metadata": {},
   "source": [
    "### 3- Quais os agentes causadores de acidentes, e correspondentes números de acidentes, por mês-ano e para acidentes com óbitos, onde o número de óbitos por agente causador é > 2?"
   ]
  },
  {
   "cell_type": "code",
   "execution_count": null,
   "metadata": {},
   "outputs": [],
   "source": [
    "{'_id': ObjectId('5cdf542de43df11ba4b62f0c'), \n",
    " 'MES_ANO_ACIDENTE': '01-JUL-18', \n",
    " 'NATUREZA_DA_LESAO': 'Fratura', \n",
    " 'AGENTE_CAUSADOR_ACIDENTE': 'Escada Movel ou Fixa', \n",
    " 'INDICA_OBITO_ACIDENTE': 'Não', \n",
    " 'POUPLACAO': 1365899, \n",
    " 'NOME_MUN': 'Guarulhos', \n",
    " 'NOME_UF': 'São Paulo'}\n",
    "\n",
    "SELECT AGENTE_CAUSADOR_ACIDENTE, MES_ANO_ACIDENTE,  COUNT(*) \"NUMERO_ACIDENTES\"\n",
    "FROM DUNCANBDA.ACID_TRAB_2018JUL_2019MAR_9 \n",
    "GROUP BY MES_ANO_ACIDENTE, AGENTE_CAUSADOR_ACIDENTE, MES_ANO_ACIDENTE, INDICA_OBITO_ACIDENTE\n",
    "HAVING INDICA_OBITO_ACIDENTE = 'Sim' and (COUNT(*)> 2);"
   ]
  },
  {
   "cell_type": "code",
   "execution_count": 37,
   "metadata": {},
   "outputs": [
    {
     "data": {
      "text/plain": [
       "[{'_id': {'data': '01-JAN-19',\n",
       "   'causa': 'Veiculo Rodoviario M',\n",
       "   'obito': 'Sim'},\n",
       "  'count': 5},\n",
       " {'_id': {'data': '01-AUG-18',\n",
       "   'causa': 'Motocicleta, Motonet',\n",
       "   'obito': 'Sim'},\n",
       "  'count': 4},\n",
       " {'_id': {'data': '01-OCT-18',\n",
       "   'causa': 'Veiculo Rodoviario M',\n",
       "   'obito': 'Sim'},\n",
       "  'count': 4},\n",
       " {'_id': {'data': '01-AUG-18',\n",
       "   'causa': 'Veiculo Rodoviario M',\n",
       "   'obito': 'Sim'},\n",
       "  'count': 3},\n",
       " {'_id': {'data': '01-OCT-18', 'causa': 'Veiculo, Nic', 'obito': 'Sim'},\n",
       "  'count': 4},\n",
       " {'_id': {'data': '01-NOV-18', 'causa': 'Veiculo, Nic', 'obito': 'Sim'},\n",
       "  'count': 3},\n",
       " {'_id': {'data': '01-FEB-19',\n",
       "   'causa': 'Motocicleta, Motonet',\n",
       "   'obito': 'Sim'},\n",
       "  'count': 3}]"
      ]
     },
     "metadata": {},
     "output_type": "display_data"
    }
   ],
   "source": [
    "\n",
    "ag_lesao = cursor.aggregate([\n",
    "    {'$group': {'_id': {'data': '$MES_ANO_ACIDENTE', 'causa': '$AGENTE_CAUSADOR_ACIDENTE', 'obito': '$INDICA_OBITO_ACIDENTE'},\n",
    "    'count': {'$sum': 1} } },\n",
    "    {'$match': {'$and': [ {'count': {'$gt': 2} }, {'_id.obito': {'$eq': 'Sim'} } ] } } \n",
    "])\n",
    " \n",
    "display(list(ag_lesao))"
   ]
  },
  {
   "cell_type": "code",
   "execution_count": 107,
   "metadata": {},
   "outputs": [
    {
     "data": {
      "text/plain": [
       "[{'_id': {'causa': 'Veiculo Rodoviario M', 'data': '01-JAN-19'}, 'count': 5},\n",
       " {'_id': {'causa': 'Motocicleta, Motonet', 'data': '01-AUG-18'}, 'count': 4},\n",
       " {'_id': {'causa': 'Veiculo Rodoviario M', 'data': '01-OCT-18'}, 'count': 4},\n",
       " {'_id': {'causa': 'Veiculo, Nic', 'data': '01-OCT-18'}, 'count': 4},\n",
       " {'_id': {'causa': 'Veiculo, Nic', 'data': '01-NOV-18'}, 'count': 3},\n",
       " {'_id': {'causa': 'Veiculo Rodoviario M', 'data': '01-AUG-18'}, 'count': 3},\n",
       " {'_id': {'causa': 'Motocicleta, Motonet', 'data': '01-FEB-19'}, 'count': 3}]"
      ]
     },
     "metadata": {},
     "output_type": "display_data"
    }
   ],
   "source": [
    "ag_lesao = cursor.aggregate([\n",
    "    {'$match': {'INDICA_OBITO_ACIDENTE': {'$eq':'Sim'} } },\n",
    "    {'$group': {'_id': {'causa': \"$AGENTE_CAUSADOR_ACIDENTE\", 'data': \"$MES_ANO_ACIDENTE\"}, 'count': {'$sum': 1} } },\n",
    "    {'$match': {'count': {'$gt': 2} } },\n",
    "    {'$sort': {'count': -1} }\n",
    "] )\n",
    "# organiza decrescentemente\n",
    "display(list(ag_lesao))"
   ]
  },
  {
   "cell_type": "code",
   "execution_count": null,
   "metadata": {},
   "outputs": [],
   "source": [
    "df = pd.read_csv('data_acid.csv', header = 0 ,encoding = \"CP1252\", sep=\",\", index_col=False)\n",
    "print_dataframe(df.head(8))\n",
    "df_dict = df.to_dict('records')\n",
    "print_dataframe(df_dict[:5])"
   ]
  },
  {
   "cell_type": "code",
   "execution_count": 66,
   "metadata": {},
   "outputs": [
    {
     "data": {
      "text/plain": [
       "São Paulo                7353\n",
       "Guarulhos                 796\n",
       "Campinas                  742\n",
       "Ribeirão Preto            579\n",
       "São Bernardo do Campo     553\n",
       "São José do Rio Preto     530\n",
       "Piracicaba                496\n",
       "Santo André               483\n",
       "Jundiaí                   463\n",
       "Barueri                   408\n",
       "Name: NOME_MUN, dtype: int64"
      ]
     },
     "metadata": {},
     "output_type": "display_data"
    },
    {
     "data": {
      "image/png": "[encoded data removed]",
      "text/plain": [
       "<matplotlib.figure.Figure at 0x7f6093d07b38>"
      ]
     },
     "metadata": {},
     "output_type": "display_data"
    }
   ],
   "source": [
    "##1.Quais os 10 municípios que mais possuem acidentes de trabalho? Faça um gráfico de barras para apresentar o resultado.\n",
    "acid_count = df['NOME_MUN'].value_counts(sort=True, ascending=False)[:10]\n",
    "print_dataframe(acid_count)\n",
    "acid_count.plot.bar()\n",
    "plt.title('10 munícipios com maior número de acidentes de trabalho')\n",
    "plt.xticks(rotation=45)\n",
    "plt.show()"
   ]
  },
  {
   "cell_type": "code",
   "execution_count": 5,
   "metadata": {},
   "outputs": [
    {
     "data": {
      "text/plain": [
       "São Paulo                735300000\n",
       "Guarulhos                 79600000\n",
       "Campinas                  74200000\n",
       "Ribeirão Preto            57900000\n",
       "São Bernardo do Campo     55300000\n",
       "São José do Rio Preto     53000000\n",
       "Piracicaba                49600000\n",
       "Santo André               48300000\n",
       "Jundiaí                   46300000\n",
       "Barueri                   40800000\n",
       "Name: NOME_MUN, dtype: int64"
      ]
     },
     "metadata": {},
     "output_type": "display_data"
    }
   ],
   "source": [
    "##2.Quais os 10 municípios que mais possuem acidentes de trabalho por 100 mil habitantes? \n",
    "##Faça um gráfico de barras para apresentar o resultado.\n",
    "##df_grouped_by_acid2 = df.groupby(['NOME_MUN', 'POPULAÇÃO'])\n",
    "acid_por_100mil = ((df['NOME_MUN'].value_counts(sort=True, ascending=False))*100000)[:10]\n",
    "\n",
    "print_dataframe(acid_por_100mil)\n",
    "\n"
   ]
  },
  {
   "cell_type": "code",
   "execution_count": 6,
   "metadata": {},
   "outputs": [
    {
     "data": {
      "image/png": "[encoded data removed]",
      "text/plain": [
       "<matplotlib.figure.Figure at 0x7f60aad0b240>"
      ]
     },
     "metadata": {},
     "output_type": "display_data"
    }
   ],
   "source": [
    "##3.Qual a proporção de acidentes de trabalho em relação a cada estado?\n",
    "##Faça um gráfico de pizza para mostrar o resultado.\n",
    "acid_count = df['NOME_UF'].value_counts(sort=True, ascending=False)\n",
    "##print_dataframe(acid_count)\n",
    "acid_count.plot.pie(colors = 'yellow')\n",
    "plt.ylabel('')\n",
    "plt.title('Proporção de acidentes de trabalho em relação a cada estado')\n",
    "plt.show()"
   ]
  },
  {
   "cell_type": "code",
   "execution_count": 67,
   "metadata": {},
   "outputs": [
    {
     "name": "stdout",
     "output_type": "stream",
     "text": [
      "A natureza da lesão mais frequente é: Corte, Laceracao, Fe, com 5715 acidentes.\n"
     ]
    }
   ],
   "source": [
    "##4.Qual a natureza da lesão mais comum nos acidentes?\n",
    "nat_lesao = (df['NATUREZA_DA_LESAO'].value_counts(sort=True, ascending=False)).idxmax()\n",
    "nat_lesao_count = (df['NATUREZA_DA_LESAO'].value_counts(sort=True, ascending=False)).max()\n",
    "print('A natureza da lesão mais frequente é: {}, com {} acidentes.'.format(nat_lesao,nat_lesao_count))\n",
    "\n"
   ]
  },
  {
   "cell_type": "code",
   "execution_count": 71,
   "metadata": {},
   "outputs": [
    {
     "data": {
      "text/plain": [
       "01-AUG-18    3501\n",
       "01-OCT-18    3377\n",
       "01-JAN-19    3083\n",
       "01-JUL-18    3016\n",
       "01-FEB-19    2907\n",
       "01-SEP-18    2890\n",
       "01-NOV-18    2673\n",
       "01-MAR-19    2368\n",
       "01-DEC-18    2079\n",
       "01-JUN-18     514\n",
       "01-MAY-18      81\n",
       "01-MAR-18      50\n",
       "01-APR-18      47\n",
       "01-FEB-18      22\n",
       "01-JAN-18      20\n",
       "Name: MES_ANO_ACIDENTE, dtype: int64"
      ]
     },
     "metadata": {},
     "output_type": "display_data"
    },
    {
     "data": {
      "image/png": "[encoded data removed]",
      "text/plain": [
       "<matplotlib.figure.Figure at 0x7f60a012ce80>"
      ]
     },
     "metadata": {},
     "output_type": "display_data"
    }
   ],
   "source": [
    "##5.Qual é o comportamento do número de acidentes ao longo do tempo?\n",
    "##Mostre a evolução do número de acientes utilizando um gráfico de linha.\n",
    "acid_count = df['MES_ANO_ACIDENTE'].value_counts()\n",
    "print_dataframe(acid_count)\n",
    "acid_count.plot()\n",
    "plt.title('Comportamento do número de acidentes ao longo do tempo')\n",
    "plt.xticks(rotation=45)\n",
    "plt.show()"
   ]
  },
  {
   "cell_type": "code",
   "execution_count": null,
   "metadata": {
    "collapsed": true
   },
   "outputs": [],
   "source": []
  },
  {
   "cell_type": "code",
   "execution_count": null,
   "metadata": {
    "collapsed": true
   },
   "outputs": [],
   "source": []
  }
 ],
 "metadata": {
  "kernelspec": {
   "display_name": "Python 3",
   "language": "python",
   "name": "python3"
  },
  "language_info": {
   "codemirror_mode": {
    "name": "ipython",
    "version": 3
   },
   "file_extension": ".py",
   "mimetype": "text/x-python",
   "name": "python",
   "nbconvert_exporter": "python",
   "pygments_lexer": "ipython3",
   "version": "3.7.1"
  }
 },
 "nbformat": 4,
 "nbformat_minor": 2
}
